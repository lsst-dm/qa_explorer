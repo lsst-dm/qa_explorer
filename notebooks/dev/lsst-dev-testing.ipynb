{
 "cells": [
  {
   "cell_type": "code",
   "execution_count": 1,
   "metadata": {
    "collapsed": true
   },
   "outputs": [],
   "source": [
    "import dask.dataframe as dd\n",
    "from distributed import Client\n",
    "client = Client(scheduler_file='/scratch/tmorton/dask/scheduler.json')"
   ]
  },
  {
   "cell_type": "code",
   "execution_count": 3,
   "metadata": {
    "collapsed": true
   },
   "outputs": [],
   "source": [
    "from explorer.catalog import ParquetCatalog\n",
    "import glob\n",
    "\n",
    "files = glob.glob('/scratch/tmorton/qa_explorer_data/forced_big_fake*.parq')\n",
    "catalog = ParquetCatalog(files[:32], client=client)"
   ]
  },
  {
   "cell_type": "code",
   "execution_count": 4,
   "metadata": {
    "collapsed": true
   },
   "outputs": [],
   "source": [
    "from explorer.functors import (Mag, MagDiff, CustomFunctor, DeconvolvedMoments, Column,\n",
    "                            SdssTraceSize, PsfSdssTraceSizeDiff, HsmTraceSize,\n",
    "                            PsfHsmTraceSizeDiff, CompositeFunctor)\n",
    "\n",
    "funcs_to_test = [CustomFunctor('mag(modelfit_CModel) - mag(base_PsfFlux)'),\n",
    "                 MagDiff('modelfit_CModel', 'base_PsfFlux'),\n",
    "                 DeconvolvedMoments(),\n",
    "                 Column('base_Footprint_nPix'),\n",
    "                 SdssTraceSize(),\n",
    "                 PsfSdssTraceSizeDiff(),\n",
    "                 HsmTraceSize(),\n",
    "                 PsfHsmTraceSizeDiff(),\n",
    "                ]"
   ]
  },
  {
   "cell_type": "code",
   "execution_count": 5,
   "metadata": {
    "collapsed": true
   },
   "outputs": [],
   "source": [
    "f1 = MagDiff('modelfit_CModel', 'base_PsfFlux')\n",
    "f2 = DeconvolvedMoments()\n",
    "# f.test(catalog)"
   ]
  },
  {
   "cell_type": "code",
   "execution_count": 6,
   "metadata": {},
   "outputs": [
    {
     "name": "stdout",
     "output_type": "stream",
     "text": [
      "CPU times: user 13.2 s, sys: 1.25 s, total: 14.5 s\n",
      "Wall time: 31.5 s\n",
      "CPU times: user 11.9 s, sys: 1.22 s, total: 13.1 s\n",
      "Wall time: 24.4 s\n"
     ]
    }
   ],
   "source": [
    "%time y1 = f1(catalog)\n",
    "%time y2 = f2(catalog)"
   ]
  },
  {
   "cell_type": "code",
   "execution_count": 7,
   "metadata": {},
   "outputs": [
    {
     "name": "stdout",
     "output_type": "stream",
     "text": [
      "CPU times: user 6.13 s, sys: 1.17 s, total: 7.3 s\n",
      "Wall time: 10.9 s\n",
      "CPU times: user 5.99 s, sys: 1.18 s, total: 7.17 s\n",
      "Wall time: 10.8 s\n"
     ]
    }
   ],
   "source": [
    "%time y1 = f1(catalog)\n",
    "%time y2 = f2(catalog)"
   ]
  },
  {
   "cell_type": "code",
   "execution_count": 7,
   "metadata": {},
   "outputs": [
    {
     "name": "stdout",
     "output_type": "stream",
     "text": [
      "CPU times: user 0 ns, sys: 965 µs, total: 965 µs\n",
      "Wall time: 712 µs\n"
     ]
    },
    {
     "data": {
      "text/plain": [
       "id\n",
       "53158034708430851   -0.667639\n",
       "53158034708430852   -0.584314\n",
       "53158034708430853   -0.037183\n",
       "53158034708430854   -0.575237\n",
       "53158034708430855   -0.001186\n",
       "dtype: float64"
      ]
     },
     "execution_count": 7,
     "metadata": {},
     "output_type": "execute_result"
    }
   ],
   "source": [
    "%time y1.head()"
   ]
  },
  {
   "cell_type": "code",
   "execution_count": 9,
   "metadata": {},
   "outputs": [
    {
     "name": "stdout",
     "output_type": "stream",
     "text": [
      "Test results for (mag_modelfit_CModel_flux - mag_base_PsfFlux_flux):\n",
      "  Took 0.96s, length=1214434.  Type=<class 'pandas.core.series.Series'>\n",
      "Test results for (mag_modelfit_CModel_flux - mag_base_PsfFlux_flux):\n",
      "  Took 2.06s, length=2428868.  Type=<class 'pandas.core.series.Series'>\n",
      "Test results for (mag_modelfit_CModel_flux - mag_base_PsfFlux_flux):\n",
      "  Took 2.80s, length=4857736.  Type=<class 'pandas.core.series.Series'>\n",
      "Test results for (mag_modelfit_CModel_flux - mag_base_PsfFlux_flux):\n",
      "  Took 4.92s, length=9715472.  Type=<class 'pandas.core.series.Series'>\n",
      "Test results for (mag_modelfit_CModel_flux - mag_base_PsfFlux_flux):\n",
      "  Took 9.07s, length=19430944.  Type=<class 'pandas.core.series.Series'>\n",
      "Test results for (mag_modelfit_CModel_flux - mag_base_PsfFlux_flux):\n",
      "  Took 18.54s, length=38861888.  Type=<class 'pandas.core.series.Series'>\n",
      "Test results for (mag_modelfit_CModel_flux - mag_base_PsfFlux_flux):\n",
      "  Took 39.27s, length=77723776.  Type=<class 'pandas.core.series.Series'>\n",
      "Test results for (mag_modelfit_CModel_flux - mag_base_PsfFlux_flux):\n",
      "  Took 114.67s, length=155447552.  Type=<class 'pandas.core.series.Series'>\n",
      "Test results for (mag_modelfit_CModel_flux - mag_base_PsfFlux_flux):\n",
      "  Took 302.08s, length=310895104.  Type=<class 'pandas.core.series.Series'>\n"
     ]
    }
   ],
   "source": [
    "# 24 dask workers, 1 thread each\n",
    "n_files = [1,2,4,8,16,32,64,128,256]\n",
    "times = []\n",
    "for n in n_files:\n",
    "    catalog = ParquetCatalog(files[:n], client=client)\n",
    "    times.append(f1.test(catalog))"
   ]
  },
  {
   "cell_type": "code",
   "execution_count": 9,
   "metadata": {},
   "outputs": [
    {
     "name": "stdout",
     "output_type": "stream",
     "text": [
      "Test results for (mag_modelfit_CModel_flux - mag_base_PsfFlux_flux):\n",
      "  Took 1.44s, length=1214434.  Type=<class 'dask.dataframe.core.Series'>\n",
      "Test results for (mag_modelfit_CModel_flux - mag_base_PsfFlux_flux):\n",
      "  Took 2.03s, length=2428868.  Type=<class 'dask.dataframe.core.Series'>\n",
      "Test results for (mag_modelfit_CModel_flux - mag_base_PsfFlux_flux):\n",
      "  Took 2.51s, length=4857736.  Type=<class 'dask.dataframe.core.Series'>\n",
      "Test results for (mag_modelfit_CModel_flux - mag_base_PsfFlux_flux):\n",
      "  Took 3.86s, length=9715472.  Type=<class 'dask.dataframe.core.Series'>\n",
      "Test results for (mag_modelfit_CModel_flux - mag_base_PsfFlux_flux):\n",
      "  Took 6.64s, length=19430944.  Type=<class 'dask.dataframe.core.Series'>\n",
      "Test results for (mag_modelfit_CModel_flux - mag_base_PsfFlux_flux):\n",
      "  Took 12.63s, length=38861888.  Type=<class 'dask.dataframe.core.Series'>\n",
      "Test results for (mag_modelfit_CModel_flux - mag_base_PsfFlux_flux):\n",
      "  Took 25.08s, length=77723776.  Type=<class 'dask.dataframe.core.Series'>\n",
      "Test results for (mag_modelfit_CModel_flux - mag_base_PsfFlux_flux):\n",
      "  Took 58.77s, length=155447552.  Type=<class 'dask.dataframe.core.Series'>\n",
      "Test results for (mag_modelfit_CModel_flux - mag_base_PsfFlux_flux):\n",
      "  Took 130.74s, length=310895104.  Type=<class 'dask.dataframe.core.Series'>\n"
     ]
    },
    {
     "name": "stderr",
     "output_type": "stream",
     "text": [
      "distributed.client - WARNING - Client report stream closed to scheduler\n"
     ]
    }
   ],
   "source": [
    "# with 16 dask workers\n",
    "n_files = [1,2,4,8,16,32,64,128,256]\n",
    "times = []\n",
    "for n in n_files:\n",
    "    catalog = ParquetCatalog(files[:n])\n",
    "    times.append(f.test(catalog))"
   ]
  },
  {
   "cell_type": "code",
   "execution_count": 14,
   "metadata": {},
   "outputs": [
    {
     "name": "stdout",
     "output_type": "stream",
     "text": [
      "Test results for (mag_modelfit_CModel_flux - mag_base_PsfFlux_flux):\n",
      "  Took 10.30s, length=1214434.  Type=<class 'dask.dataframe.core.Series'>\n",
      "Test results for (mag_modelfit_CModel_flux - mag_base_PsfFlux_flux):\n",
      "  Took 5.30s, length=2428868.  Type=<class 'dask.dataframe.core.Series'>\n",
      "Test results for (mag_modelfit_CModel_flux - mag_base_PsfFlux_flux):\n",
      "  Took 6.12s, length=4857736.  Type=<class 'dask.dataframe.core.Series'>\n",
      "Test results for (mag_modelfit_CModel_flux - mag_base_PsfFlux_flux):\n",
      "  Took 7.32s, length=9715472.  Type=<class 'dask.dataframe.core.Series'>\n",
      "Test results for (mag_modelfit_CModel_flux - mag_base_PsfFlux_flux):\n",
      "  Took 9.46s, length=19430944.  Type=<class 'dask.dataframe.core.Series'>\n"
     ]
    },
    {
     "name": "stderr",
     "output_type": "stream",
     "text": [
      "distributed.comm.tcp - WARNING - Closing dangling stream in <TCP local=tcp://141.142.237.49:9624 remote=tcp://141.142.237.49:8786>\n",
      "tornado.application - ERROR - Exception in callback None\n",
      "Traceback (most recent call last):\n",
      "  File \"/home/tmorton/.conda/envs/my_py3/lib/python3.6/site-packages/tornado/ioloop.py\", line 887, in start\n",
      "    fd_obj, handler_func = self._handlers[fd]\n",
      "KeyError: 65\n"
     ]
    },
    {
     "name": "stdout",
     "output_type": "stream",
     "text": [
      "Test results for (mag_modelfit_CModel_flux - mag_base_PsfFlux_flux):\n",
      "  Took 11.97s, length=38861888.  Type=<class 'dask.dataframe.core.Series'>\n",
      "Test results for (mag_modelfit_CModel_flux - mag_base_PsfFlux_flux):\n",
      "  Took 23.68s, length=77723776.  Type=<class 'dask.dataframe.core.Series'>\n",
      "Test results for (mag_modelfit_CModel_flux - mag_base_PsfFlux_flux):\n",
      "  Took 54.01s, length=155447552.  Type=<class 'dask.dataframe.core.Series'>\n",
      "Test results for (mag_modelfit_CModel_flux - mag_base_PsfFlux_flux):\n",
      "  Took 117.99s, length=310895104.  Type=<class 'dask.dataframe.core.Series'>\n"
     ]
    }
   ],
   "source": [
    "# with 32 dask workers\n",
    "n_files = [1,2,4,8,16,32,64,128,256]\n",
    "times = []\n",
    "for n in n_files:\n",
    "    catalog = ParquetCatalog(files[:n])\n",
    "    times.append(f.test(catalog))"
   ]
  },
  {
   "cell_type": "code",
   "execution_count": 41,
   "metadata": {},
   "outputs": [
    {
     "name": "stderr",
     "output_type": "stream",
     "text": [
      "distributed.comm.tcp - WARNING - Closing dangling stream in <TCP local=tcp://141.142.237.49:47212 remote=tcp://141.142.237.49:8786>\n",
      "distributed.comm.tcp - WARNING - Closing dangling stream in <TCP local=tcp://141.142.237.49:47214 remote=tcp://141.142.237.49:8786>\n",
      "distributed.comm.tcp - WARNING - Closing dangling stream in <TCP local=tcp://141.142.237.49:47216 remote=tcp://141.142.237.49:8786>\n"
     ]
    },
    {
     "name": "stdout",
     "output_type": "stream",
     "text": [
      "Test results for (mag_modelfit_CModel_flux - mag_base_PsfFlux_flux):\n",
      "  Took 12.27s, length=1214434.  Type=<class 'dask.dataframe.core.Series'>\n"
     ]
    },
    {
     "name": "stderr",
     "output_type": "stream",
     "text": [
      "tornado.application - ERROR - Exception in callback None\n",
      "Traceback (most recent call last):\n",
      "  File \"/home/tmorton/.conda/envs/my_py3/lib/python3.6/site-packages/tornado/ioloop.py\", line 887, in start\n",
      "    fd_obj, handler_func = self._handlers[fd]\n",
      "KeyError: 64\n",
      "tornado.application - ERROR - Exception in callback None\n",
      "Traceback (most recent call last):\n",
      "  File \"/home/tmorton/.conda/envs/my_py3/lib/python3.6/site-packages/tornado/ioloop.py\", line 887, in start\n",
      "    fd_obj, handler_func = self._handlers[fd]\n",
      "KeyError: 70\n",
      "tornado.application - ERROR - Exception in callback None\n",
      "Traceback (most recent call last):\n",
      "  File \"/home/tmorton/.conda/envs/my_py3/lib/python3.6/site-packages/tornado/ioloop.py\", line 887, in start\n",
      "    fd_obj, handler_func = self._handlers[fd]\n",
      "KeyError: 66\n"
     ]
    },
    {
     "name": "stdout",
     "output_type": "stream",
     "text": [
      "Test results for (mag_modelfit_CModel_flux - mag_base_PsfFlux_flux):\n",
      "  Took 5.56s, length=2428868.  Type=<class 'dask.dataframe.core.Series'>\n",
      "Test results for (mag_modelfit_CModel_flux - mag_base_PsfFlux_flux):\n",
      "  Took 6.14s, length=4857736.  Type=<class 'dask.dataframe.core.Series'>\n",
      "Test results for (mag_modelfit_CModel_flux - mag_base_PsfFlux_flux):\n",
      "  Took 7.66s, length=9715472.  Type=<class 'dask.dataframe.core.Series'>\n",
      "Test results for (mag_modelfit_CModel_flux - mag_base_PsfFlux_flux):\n",
      "  Took 7.56s, length=19430944.  Type=<class 'dask.dataframe.core.Series'>\n",
      "Test results for (mag_modelfit_CModel_flux - mag_base_PsfFlux_flux):\n",
      "  Took 15.07s, length=38861888.  Type=<class 'dask.dataframe.core.Series'>\n",
      "Test results for (mag_modelfit_CModel_flux - mag_base_PsfFlux_flux):\n",
      "  Took 29.04s, length=77723776.  Type=<class 'dask.dataframe.core.Series'>\n",
      "Test results for (mag_modelfit_CModel_flux - mag_base_PsfFlux_flux):\n",
      "  Took 60.67s, length=155447552.  Type=<class 'dask.dataframe.core.Series'>\n",
      "Test results for (mag_modelfit_CModel_flux - mag_base_PsfFlux_flux):\n",
      "  Took 125.02s, length=310895104.  Type=<class 'dask.dataframe.core.Series'>\n"
     ]
    }
   ],
   "source": [
    "# 16 workers, without specifying nthreads=1\n",
    "n_files = [1,2,4,8,16,32,64,128,256]\n",
    "times = []\n",
    "for n in n_files:\n",
    "    catalog = ParquetCatalog(files[:n])\n",
    "    times.append(f.test(catalog))"
   ]
  },
  {
   "cell_type": "code",
   "execution_count": 26,
   "metadata": {
    "collapsed": true
   },
   "outputs": [],
   "source": [
    "catalog = ParquetCatalog(files[:64], client=client)"
   ]
  },
  {
   "cell_type": "code",
   "execution_count": 33,
   "metadata": {
    "collapsed": true
   },
   "outputs": [],
   "source": [
    "f1 = MagDiff('modelfit_CModel', 'base_PsfFlux')\n",
    "f2 = DeconvolvedMoments()\n",
    "# y1 = f1(catalog)"
   ]
  },
  {
   "cell_type": "code",
   "execution_count": 28,
   "metadata": {},
   "outputs": [
    {
     "name": "stdout",
     "output_type": "stream",
     "text": [
      "CPU times: user 13 s, sys: 45.4 ms, total: 13 s\n",
      "Wall time: 15.3 s\n"
     ]
    }
   ],
   "source": [
    "%time df = catalog.get_columns(f1.columns)"
   ]
  },
  {
   "cell_type": "code",
   "execution_count": 31,
   "metadata": {},
   "outputs": [
    {
     "data": {
      "text/html": [
       "<div>\n",
       "<style>\n",
       "    .dataframe thead tr:only-child th {\n",
       "        text-align: right;\n",
       "    }\n",
       "\n",
       "    .dataframe thead th {\n",
       "        text-align: left;\n",
       "    }\n",
       "\n",
       "    .dataframe tbody tr th {\n",
       "        vertical-align: top;\n",
       "    }\n",
       "</style>\n",
       "<table border=\"1\" class=\"dataframe\">\n",
       "  <thead>\n",
       "    <tr style=\"text-align: right;\">\n",
       "      <th></th>\n",
       "      <th>modelfit_CModel_flux</th>\n",
       "      <th>base_PsfFlux_flux</th>\n",
       "    </tr>\n",
       "    <tr>\n",
       "      <th>id</th>\n",
       "      <th></th>\n",
       "      <th></th>\n",
       "    </tr>\n",
       "  </thead>\n",
       "  <tbody>\n",
       "    <tr>\n",
       "      <th>53158034708430850</th>\n",
       "      <td>NaN</td>\n",
       "      <td>8.047405e-11</td>\n",
       "    </tr>\n",
       "    <tr>\n",
       "      <th>53158034708430851</th>\n",
       "      <td>4.617162e-10</td>\n",
       "      <td>2.496430e-10</td>\n",
       "    </tr>\n",
       "    <tr>\n",
       "      <th>53158034708430852</th>\n",
       "      <td>1.449521e-10</td>\n",
       "      <td>8.462506e-11</td>\n",
       "    </tr>\n",
       "    <tr>\n",
       "      <th>53158034708430853</th>\n",
       "      <td>6.169326e-11</td>\n",
       "      <td>5.961625e-11</td>\n",
       "    </tr>\n",
       "    <tr>\n",
       "      <th>53158034708430854</th>\n",
       "      <td>4.629501e-10</td>\n",
       "      <td>2.725458e-10</td>\n",
       "    </tr>\n",
       "  </tbody>\n",
       "</table>\n",
       "</div>"
      ],
      "text/plain": [
       "                   modelfit_CModel_flux  base_PsfFlux_flux\n",
       "id                                                        \n",
       "53158034708430850                   NaN       8.047405e-11\n",
       "53158034708430851          4.617162e-10       2.496430e-10\n",
       "53158034708430852          1.449521e-10       8.462506e-11\n",
       "53158034708430853          6.169326e-11       5.961625e-11\n",
       "53158034708430854          4.629501e-10       2.725458e-10"
      ]
     },
     "execution_count": 31,
     "metadata": {},
     "output_type": "execute_result"
    }
   ],
   "source": [
    "df.head()"
   ]
  },
  {
   "cell_type": "code",
   "execution_count": 34,
   "metadata": {},
   "outputs": [
    {
     "name": "stdout",
     "output_type": "stream",
     "text": [
      "CPU times: user 14.3 s, sys: 319 ms, total: 14.6 s\n",
      "Wall time: 15.3 s\n"
     ]
    }
   ],
   "source": [
    "%time catalog.get_columns(f2.columns)"
   ]
  },
  {
   "cell_type": "code",
   "execution_count": 35,
   "metadata": {},
   "outputs": [
    {
     "data": {
      "text/html": [
       "<div>\n",
       "<style>\n",
       "    .dataframe thead tr:only-child th {\n",
       "        text-align: right;\n",
       "    }\n",
       "\n",
       "    .dataframe thead th {\n",
       "        text-align: left;\n",
       "    }\n",
       "\n",
       "    .dataframe tbody tr th {\n",
       "        vertical-align: top;\n",
       "    }\n",
       "</style>\n",
       "<table border=\"1\" class=\"dataframe\">\n",
       "  <thead>\n",
       "    <tr style=\"text-align: right;\">\n",
       "      <th></th>\n",
       "      <th>ext_shapeHSM_HsmSourceMoments_xx</th>\n",
       "      <th>ext_shapeHSM_HsmSourceMoments_yy</th>\n",
       "      <th>base_SdssShape_xx</th>\n",
       "      <th>base_SdssShape_yy</th>\n",
       "      <th>ext_shapeHSM_HsmPsfMoments_xx</th>\n",
       "      <th>ext_shapeHSM_HsmPsfMoments_yy</th>\n",
       "    </tr>\n",
       "    <tr>\n",
       "      <th>id</th>\n",
       "      <th></th>\n",
       "      <th></th>\n",
       "      <th></th>\n",
       "      <th></th>\n",
       "      <th></th>\n",
       "      <th></th>\n",
       "    </tr>\n",
       "  </thead>\n",
       "  <tbody>\n",
       "    <tr>\n",
       "      <th>53158034708430850</th>\n",
       "      <td>NaN</td>\n",
       "      <td>NaN</td>\n",
       "      <td>1.088979</td>\n",
       "      <td>0.127574</td>\n",
       "      <td>1.100241</td>\n",
       "      <td>1.165169</td>\n",
       "    </tr>\n",
       "    <tr>\n",
       "      <th>53158034708430851</th>\n",
       "      <td>1.573842</td>\n",
       "      <td>2.554046</td>\n",
       "      <td>1.580069</td>\n",
       "      <td>2.569499</td>\n",
       "      <td>1.098099</td>\n",
       "      <td>1.164787</td>\n",
       "    </tr>\n",
       "    <tr>\n",
       "      <th>53158034708430852</th>\n",
       "      <td>2.688466</td>\n",
       "      <td>1.494553</td>\n",
       "      <td>2.504668</td>\n",
       "      <td>1.434881</td>\n",
       "      <td>1.092501</td>\n",
       "      <td>1.164131</td>\n",
       "    </tr>\n",
       "    <tr>\n",
       "      <th>53158034708430853</th>\n",
       "      <td>NaN</td>\n",
       "      <td>NaN</td>\n",
       "      <td>0.083333</td>\n",
       "      <td>0.083333</td>\n",
       "      <td>1.235970</td>\n",
       "      <td>1.256991</td>\n",
       "    </tr>\n",
       "    <tr>\n",
       "      <th>53158034708430854</th>\n",
       "      <td>2.683044</td>\n",
       "      <td>1.672739</td>\n",
       "      <td>2.662576</td>\n",
       "      <td>1.666592</td>\n",
       "      <td>1.089752</td>\n",
       "      <td>1.163285</td>\n",
       "    </tr>\n",
       "  </tbody>\n",
       "</table>\n",
       "</div>"
      ],
      "text/plain": [
       "                   ext_shapeHSM_HsmSourceMoments_xx  \\\n",
       "id                                                    \n",
       "53158034708430850                               NaN   \n",
       "53158034708430851                          1.573842   \n",
       "53158034708430852                          2.688466   \n",
       "53158034708430853                               NaN   \n",
       "53158034708430854                          2.683044   \n",
       "\n",
       "                   ext_shapeHSM_HsmSourceMoments_yy  base_SdssShape_xx  \\\n",
       "id                                                                       \n",
       "53158034708430850                               NaN           1.088979   \n",
       "53158034708430851                          2.554046           1.580069   \n",
       "53158034708430852                          1.494553           2.504668   \n",
       "53158034708430853                               NaN           0.083333   \n",
       "53158034708430854                          1.672739           2.662576   \n",
       "\n",
       "                   base_SdssShape_yy  ext_shapeHSM_HsmPsfMoments_xx  \\\n",
       "id                                                                    \n",
       "53158034708430850           0.127574                       1.100241   \n",
       "53158034708430851           2.569499                       1.098099   \n",
       "53158034708430852           1.434881                       1.092501   \n",
       "53158034708430853           0.083333                       1.235970   \n",
       "53158034708430854           1.666592                       1.089752   \n",
       "\n",
       "                   ext_shapeHSM_HsmPsfMoments_yy  \n",
       "id                                                \n",
       "53158034708430850                       1.165169  \n",
       "53158034708430851                       1.164787  \n",
       "53158034708430852                       1.164131  \n",
       "53158034708430853                       1.256991  \n",
       "53158034708430854                       1.163285  "
      ]
     },
     "execution_count": 35,
     "metadata": {},
     "output_type": "execute_result"
    }
   ],
   "source": [
    "df2.head()"
   ]
  },
  {
   "cell_type": "code",
   "execution_count": 36,
   "metadata": {
    "collapsed": true
   },
   "outputs": [],
   "source": [
    "df3 = df.join(df2)"
   ]
  },
  {
   "cell_type": "code",
   "execution_count": 37,
   "metadata": {},
   "outputs": [
    {
     "data": {
      "text/html": [
       "<div>\n",
       "<style>\n",
       "    .dataframe thead tr:only-child th {\n",
       "        text-align: right;\n",
       "    }\n",
       "\n",
       "    .dataframe thead th {\n",
       "        text-align: left;\n",
       "    }\n",
       "\n",
       "    .dataframe tbody tr th {\n",
       "        vertical-align: top;\n",
       "    }\n",
       "</style>\n",
       "<table border=\"1\" class=\"dataframe\">\n",
       "  <thead>\n",
       "    <tr style=\"text-align: right;\">\n",
       "      <th></th>\n",
       "      <th>modelfit_CModel_flux</th>\n",
       "      <th>base_PsfFlux_flux</th>\n",
       "      <th>ext_shapeHSM_HsmSourceMoments_xx</th>\n",
       "      <th>ext_shapeHSM_HsmSourceMoments_yy</th>\n",
       "      <th>base_SdssShape_xx</th>\n",
       "      <th>base_SdssShape_yy</th>\n",
       "      <th>ext_shapeHSM_HsmPsfMoments_xx</th>\n",
       "      <th>ext_shapeHSM_HsmPsfMoments_yy</th>\n",
       "    </tr>\n",
       "    <tr>\n",
       "      <th>id</th>\n",
       "      <th></th>\n",
       "      <th></th>\n",
       "      <th></th>\n",
       "      <th></th>\n",
       "      <th></th>\n",
       "      <th></th>\n",
       "      <th></th>\n",
       "      <th></th>\n",
       "    </tr>\n",
       "  </thead>\n",
       "  <tbody>\n",
       "    <tr>\n",
       "      <th>53158034708430850</th>\n",
       "      <td>NaN</td>\n",
       "      <td>8.047405e-11</td>\n",
       "      <td>NaN</td>\n",
       "      <td>NaN</td>\n",
       "      <td>1.088979</td>\n",
       "      <td>0.127574</td>\n",
       "      <td>1.100241</td>\n",
       "      <td>1.165169</td>\n",
       "    </tr>\n",
       "    <tr>\n",
       "      <th>53158034708430851</th>\n",
       "      <td>4.617162e-10</td>\n",
       "      <td>2.496430e-10</td>\n",
       "      <td>1.573842</td>\n",
       "      <td>2.554046</td>\n",
       "      <td>1.580069</td>\n",
       "      <td>2.569499</td>\n",
       "      <td>1.098099</td>\n",
       "      <td>1.164787</td>\n",
       "    </tr>\n",
       "    <tr>\n",
       "      <th>53158034708430852</th>\n",
       "      <td>1.449521e-10</td>\n",
       "      <td>8.462506e-11</td>\n",
       "      <td>2.688466</td>\n",
       "      <td>1.494553</td>\n",
       "      <td>2.504668</td>\n",
       "      <td>1.434881</td>\n",
       "      <td>1.092501</td>\n",
       "      <td>1.164131</td>\n",
       "    </tr>\n",
       "    <tr>\n",
       "      <th>53158034708430853</th>\n",
       "      <td>6.169326e-11</td>\n",
       "      <td>5.961625e-11</td>\n",
       "      <td>NaN</td>\n",
       "      <td>NaN</td>\n",
       "      <td>0.083333</td>\n",
       "      <td>0.083333</td>\n",
       "      <td>1.235970</td>\n",
       "      <td>1.256991</td>\n",
       "    </tr>\n",
       "    <tr>\n",
       "      <th>53158034708430854</th>\n",
       "      <td>4.629501e-10</td>\n",
       "      <td>2.725458e-10</td>\n",
       "      <td>2.683044</td>\n",
       "      <td>1.672739</td>\n",
       "      <td>2.662576</td>\n",
       "      <td>1.666592</td>\n",
       "      <td>1.089752</td>\n",
       "      <td>1.163285</td>\n",
       "    </tr>\n",
       "  </tbody>\n",
       "</table>\n",
       "</div>"
      ],
      "text/plain": [
       "                   modelfit_CModel_flux  base_PsfFlux_flux  \\\n",
       "id                                                           \n",
       "53158034708430850                   NaN       8.047405e-11   \n",
       "53158034708430851          4.617162e-10       2.496430e-10   \n",
       "53158034708430852          1.449521e-10       8.462506e-11   \n",
       "53158034708430853          6.169326e-11       5.961625e-11   \n",
       "53158034708430854          4.629501e-10       2.725458e-10   \n",
       "\n",
       "                   ext_shapeHSM_HsmSourceMoments_xx  \\\n",
       "id                                                    \n",
       "53158034708430850                               NaN   \n",
       "53158034708430851                          1.573842   \n",
       "53158034708430852                          2.688466   \n",
       "53158034708430853                               NaN   \n",
       "53158034708430854                          2.683044   \n",
       "\n",
       "                   ext_shapeHSM_HsmSourceMoments_yy  base_SdssShape_xx  \\\n",
       "id                                                                       \n",
       "53158034708430850                               NaN           1.088979   \n",
       "53158034708430851                          2.554046           1.580069   \n",
       "53158034708430852                          1.494553           2.504668   \n",
       "53158034708430853                               NaN           0.083333   \n",
       "53158034708430854                          1.672739           2.662576   \n",
       "\n",
       "                   base_SdssShape_yy  ext_shapeHSM_HsmPsfMoments_xx  \\\n",
       "id                                                                    \n",
       "53158034708430850           0.127574                       1.100241   \n",
       "53158034708430851           2.569499                       1.098099   \n",
       "53158034708430852           1.434881                       1.092501   \n",
       "53158034708430853           0.083333                       1.235970   \n",
       "53158034708430854           1.666592                       1.089752   \n",
       "\n",
       "                   ext_shapeHSM_HsmPsfMoments_yy  \n",
       "id                                                \n",
       "53158034708430850                       1.165169  \n",
       "53158034708430851                       1.164787  \n",
       "53158034708430852                       1.164131  \n",
       "53158034708430853                       1.256991  \n",
       "53158034708430854                       1.163285  "
      ]
     },
     "execution_count": 37,
     "metadata": {},
     "output_type": "execute_result"
    }
   ],
   "source": [
    "df3.head()"
   ]
  },
  {
   "cell_type": "code",
   "execution_count": 46,
   "metadata": {},
   "outputs": [
    {
     "name": "stdout",
     "output_type": "stream",
     "text": [
      "CPU times: user 3.34 s, sys: 37 ms, total: 3.37 s\n",
      "Wall time: 3.47 s\n"
     ]
    }
   ],
   "source": [
    "%time df = client.persist(dd.read_parquet(files[:16]))"
   ]
  },
  {
   "cell_type": "code",
   "execution_count": 47,
   "metadata": {},
   "outputs": [
    {
     "name": "stdout",
     "output_type": "stream",
     "text": [
      "CPU times: user 11 ms, sys: 0 ns, total: 11 ms\n",
      "Wall time: 27.5 ms\n"
     ]
    },
    {
     "data": {
      "text/html": [
       "<div>\n",
       "<style>\n",
       "    .dataframe thead tr:only-child th {\n",
       "        text-align: right;\n",
       "    }\n",
       "\n",
       "    .dataframe thead th {\n",
       "        text-align: left;\n",
       "    }\n",
       "\n",
       "    .dataframe tbody tr th {\n",
       "        vertical-align: top;\n",
       "    }\n",
       "</style>\n",
       "<table border=\"1\" class=\"dataframe\">\n",
       "  <thead>\n",
       "    <tr style=\"text-align: right;\">\n",
       "      <th></th>\n",
       "      <th>modelfit_CModel_flux</th>\n",
       "      <th>base_PsfFlux_flux</th>\n",
       "    </tr>\n",
       "    <tr>\n",
       "      <th>index</th>\n",
       "      <th></th>\n",
       "      <th></th>\n",
       "    </tr>\n",
       "  </thead>\n",
       "  <tbody>\n",
       "    <tr>\n",
       "      <th>0</th>\n",
       "      <td>1.091596e-10</td>\n",
       "      <td>1.090838e-10</td>\n",
       "    </tr>\n",
       "    <tr>\n",
       "      <th>1</th>\n",
       "      <td>1.062041e-10</td>\n",
       "      <td>1.062667e-10</td>\n",
       "    </tr>\n",
       "    <tr>\n",
       "      <th>2</th>\n",
       "      <td>7.338646e-11</td>\n",
       "      <td>3.957935e-11</td>\n",
       "    </tr>\n",
       "    <tr>\n",
       "      <th>3</th>\n",
       "      <td>1.509706e-10</td>\n",
       "      <td>1.043840e-10</td>\n",
       "    </tr>\n",
       "    <tr>\n",
       "      <th>4</th>\n",
       "      <td>5.588762e-11</td>\n",
       "      <td>5.143294e-11</td>\n",
       "    </tr>\n",
       "  </tbody>\n",
       "</table>\n",
       "</div>"
      ],
      "text/plain": [
       "       modelfit_CModel_flux  base_PsfFlux_flux\n",
       "index                                         \n",
       "0              1.091596e-10       1.090838e-10\n",
       "1              1.062041e-10       1.062667e-10\n",
       "2              7.338646e-11       3.957935e-11\n",
       "3              1.509706e-10       1.043840e-10\n",
       "4              5.588762e-11       5.143294e-11"
      ]
     },
     "execution_count": 47,
     "metadata": {},
     "output_type": "execute_result"
    }
   ],
   "source": [
    "%time df[f1.columns].head()"
   ]
  },
  {
   "cell_type": "code",
   "execution_count": 49,
   "metadata": {},
   "outputs": [
    {
     "data": {
      "text/plain": [
       "Index(['id', 'coord_ra', 'coord_dec', 'parent', 'deblend_nChild',\n",
       "       'base_TransformedCentroid_x', 'slot_Centroid_x',\n",
       "       'base_TransformedCentroid_y', 'slot_Centroid_y',\n",
       "       'base_TransformedCentroid_flag',\n",
       "       ...\n",
       "       'ext_shapeHSM_HsmSourceMoments_yy', 'ext_shapeHSM_HsmSourceMoments_xy',\n",
       "       'ext_shapeHSM_HsmPsfMoments_xx', 'ext_shapeHSM_HsmPsfMoments_yy',\n",
       "       'ext_shapeHSM_HsmPsfMoments_xy', 'calib_psfUsed', 'calib_psfCandidate',\n",
       "       'base_SdssCentroid_flag', 'base_Footprint_nPix',\n",
       "       'base_Footprint_nPix_flag'],\n",
       "      dtype='object', length=449)"
      ]
     },
     "execution_count": 49,
     "metadata": {},
     "output_type": "execute_result"
    }
   ],
   "source": [
    "df.columns"
   ]
  },
  {
   "cell_type": "code",
   "execution_count": 50,
   "metadata": {},
   "outputs": [
    {
     "data": {
      "text/plain": [
       "True"
      ]
     },
     "execution_count": 50,
     "metadata": {},
     "output_type": "execute_result"
    }
   ],
   "source": [
    "all(c in df.columns for c in f2.columns)"
   ]
  },
  {
   "cell_type": "code",
   "execution_count": 52,
   "metadata": {},
   "outputs": [
    {
     "name": "stdout",
     "output_type": "stream",
     "text": [
      "CPU times: user 10.9 ms, sys: 1 ms, total: 11.9 ms\n",
      "Wall time: 57.7 ms\n"
     ]
    },
    {
     "data": {
      "text/html": [
       "<div>\n",
       "<style>\n",
       "    .dataframe thead tr:only-child th {\n",
       "        text-align: right;\n",
       "    }\n",
       "\n",
       "    .dataframe thead th {\n",
       "        text-align: left;\n",
       "    }\n",
       "\n",
       "    .dataframe tbody tr th {\n",
       "        vertical-align: top;\n",
       "    }\n",
       "</style>\n",
       "<table border=\"1\" class=\"dataframe\">\n",
       "  <thead>\n",
       "    <tr style=\"text-align: right;\">\n",
       "      <th></th>\n",
       "      <th>ext_shapeHSM_HsmSourceMoments_xx</th>\n",
       "      <th>ext_shapeHSM_HsmSourceMoments_yy</th>\n",
       "      <th>base_SdssShape_xx</th>\n",
       "      <th>base_SdssShape_yy</th>\n",
       "      <th>ext_shapeHSM_HsmPsfMoments_xx</th>\n",
       "      <th>ext_shapeHSM_HsmPsfMoments_yy</th>\n",
       "    </tr>\n",
       "    <tr>\n",
       "      <th>index</th>\n",
       "      <th></th>\n",
       "      <th></th>\n",
       "      <th></th>\n",
       "      <th></th>\n",
       "      <th></th>\n",
       "      <th></th>\n",
       "    </tr>\n",
       "  </thead>\n",
       "  <tbody>\n",
       "    <tr>\n",
       "      <th>0</th>\n",
       "      <td>NaN</td>\n",
       "      <td>NaN</td>\n",
       "      <td>0.083333</td>\n",
       "      <td>0.083333</td>\n",
       "      <td>1.147312</td>\n",
       "      <td>1.150524</td>\n",
       "    </tr>\n",
       "    <tr>\n",
       "      <th>1</th>\n",
       "      <td>1.732549</td>\n",
       "      <td>1.829507</td>\n",
       "      <td>1.724967</td>\n",
       "      <td>1.804357</td>\n",
       "      <td>1.183368</td>\n",
       "      <td>1.136575</td>\n",
       "    </tr>\n",
       "    <tr>\n",
       "      <th>2</th>\n",
       "      <td>NaN</td>\n",
       "      <td>NaN</td>\n",
       "      <td>0.083333</td>\n",
       "      <td>0.083333</td>\n",
       "      <td>1.164925</td>\n",
       "      <td>1.142803</td>\n",
       "    </tr>\n",
       "    <tr>\n",
       "      <th>3</th>\n",
       "      <td>2.495500</td>\n",
       "      <td>2.906507</td>\n",
       "      <td>3.446043</td>\n",
       "      <td>2.699839</td>\n",
       "      <td>1.154973</td>\n",
       "      <td>1.146689</td>\n",
       "    </tr>\n",
       "    <tr>\n",
       "      <th>4</th>\n",
       "      <td>NaN</td>\n",
       "      <td>NaN</td>\n",
       "      <td>NaN</td>\n",
       "      <td>NaN</td>\n",
       "      <td>1.162071</td>\n",
       "      <td>1.143402</td>\n",
       "    </tr>\n",
       "  </tbody>\n",
       "</table>\n",
       "</div>"
      ],
      "text/plain": [
       "       ext_shapeHSM_HsmSourceMoments_xx  ext_shapeHSM_HsmSourceMoments_yy  \\\n",
       "index                                                                       \n",
       "0                                   NaN                               NaN   \n",
       "1                              1.732549                          1.829507   \n",
       "2                                   NaN                               NaN   \n",
       "3                              2.495500                          2.906507   \n",
       "4                                   NaN                               NaN   \n",
       "\n",
       "       base_SdssShape_xx  base_SdssShape_yy  ext_shapeHSM_HsmPsfMoments_xx  \\\n",
       "index                                                                        \n",
       "0               0.083333           0.083333                       1.147312   \n",
       "1               1.724967           1.804357                       1.183368   \n",
       "2               0.083333           0.083333                       1.164925   \n",
       "3               3.446043           2.699839                       1.154973   \n",
       "4                    NaN                NaN                       1.162071   \n",
       "\n",
       "       ext_shapeHSM_HsmPsfMoments_yy  \n",
       "index                                 \n",
       "0                           1.150524  \n",
       "1                           1.136575  \n",
       "2                           1.142803  \n",
       "3                           1.146689  \n",
       "4                           1.143402  "
      ]
     },
     "execution_count": 52,
     "metadata": {},
     "output_type": "execute_result"
    }
   ],
   "source": [
    "%time df[list(f2.columns)].head()"
   ]
  },
  {
   "cell_type": "code",
   "execution_count": 5,
   "metadata": {},
   "outputs": [
    {
     "name": "stdout",
     "output_type": "stream",
     "text": [
      "CPU times: user 13.4 s, sys: 126 ms, total: 13.5 s\n",
      "Wall time: 14 s\n"
     ]
    }
   ],
   "source": [
    "%time df = dd.read_parquet(files[:64], columns=f1.columns)"
   ]
  },
  {
   "cell_type": "code",
   "execution_count": 8,
   "metadata": {},
   "outputs": [
    {
     "name": "stdout",
     "output_type": "stream",
     "text": [
      " "
     ]
    }
   ],
   "source": [
    "%prun dd.read_parquet(files[:64], columns=f1.columns)"
   ]
  },
  {
   "cell_type": "code",
   "execution_count": 9,
   "metadata": {},
   "outputs": [
    {
     "name": "stdout",
     "output_type": "stream",
     "text": [
      " "
     ]
    }
   ],
   "source": [
    "%prun client.persist(dd.read_parquet(files[:64], columns=f1.columns))"
   ]
  },
  {
   "cell_type": "code",
   "execution_count": 16,
   "metadata": {},
   "outputs": [
    {
     "name": "stdout",
     "output_type": "stream",
     "text": [
      "CPU times: user 2.95 s, sys: 9.3 ms, total: 2.96 s\n",
      "Wall time: 3.07 s\n"
     ]
    }
   ],
   "source": [
    "%time df = client.persist(dd.read_parquet(files[:16], columns=f1.columns))"
   ]
  },
  {
   "cell_type": "code",
   "execution_count": 17,
   "metadata": {
    "collapsed": true
   },
   "outputs": [],
   "source": [
    "import fastparquet\n",
    "import pandas as pd"
   ]
  },
  {
   "cell_type": "code",
   "execution_count": 20,
   "metadata": {},
   "outputs": [
    {
     "name": "stdout",
     "output_type": "stream",
     "text": [
      "CPU times: user 5.33 s, sys: 460 ms, total: 5.79 s\n",
      "Wall time: 9.97 s\n"
     ]
    }
   ],
   "source": [
    "%%time\n",
    "dfs = []\n",
    "for f in files[:16]:\n",
    "    pfile = fastparquet.ParquetFile(f)\n",
    "    dfs.append(pfile.to_pandas(columns=f1.columns))\n",
    "df = pd.concat(dfs)"
   ]
  },
  {
   "cell_type": "code",
   "execution_count": 21,
   "metadata": {},
   "outputs": [
    {
     "name": "stdout",
     "output_type": "stream",
     "text": [
      "CPU times: user 2.88 s, sys: 13.9 ms, total: 2.89 s\n",
      "Wall time: 2.93 s\n"
     ]
    }
   ],
   "source": [
    "%%time\n",
    "df = client.persist(dd.read_parquet(files[:16], columns=f1.columns))"
   ]
  },
  {
   "cell_type": "code",
   "execution_count": 22,
   "metadata": {},
   "outputs": [
    {
     "data": {
      "text/plain": [
       "19614112"
      ]
     },
     "execution_count": 22,
     "metadata": {},
     "output_type": "execute_result"
    }
   ],
   "source": [
    "len(df)"
   ]
  },
  {
   "cell_type": "code",
   "execution_count": null,
   "metadata": {
    "collapsed": true
   },
   "outputs": [],
   "source": [
    "res = f1(catalog)"
   ]
  },
  {
   "cell_type": "code",
   "execution_count": 23,
   "metadata": {
    "collapsed": true
   },
   "outputs": [],
   "source": [
    "import dask.dataframe as dd\n",
    "import pandas as pd"
   ]
  },
  {
   "cell_type": "code",
   "execution_count": 25,
   "metadata": {},
   "outputs": [
    {
     "ename": "ValueError",
     "evalue": "Exactly one of npartitions and chunksize must be specified.",
     "output_type": "error",
     "traceback": [
      "\u001b[0;31m---------------------------------------------------------------------------\u001b[0m",
      "\u001b[0;31mValueError\u001b[0m                                Traceback (most recent call last)",
      "\u001b[0;32m<ipython-input-25-e8ae5d07aee4>\u001b[0m in \u001b[0;36m<module>\u001b[0;34m()\u001b[0m\n\u001b[0;32m----> 1\u001b[0;31m \u001b[0mdf\u001b[0m \u001b[0;34m=\u001b[0m \u001b[0mdd\u001b[0m\u001b[0;34m.\u001b[0m\u001b[0mfrom_pandas\u001b[0m\u001b[0;34m(\u001b[0m\u001b[0mpd\u001b[0m\u001b[0;34m.\u001b[0m\u001b[0mDataFrame\u001b[0m\u001b[0;34m(\u001b[0m\u001b[0;34m{\u001b[0m\u001b[0;34m'y1'\u001b[0m\u001b[0;34m:\u001b[0m\u001b[0my1\u001b[0m\u001b[0;34m.\u001b[0m\u001b[0mresult\u001b[0m\u001b[0;34m(\u001b[0m\u001b[0;34m)\u001b[0m\u001b[0;34m,\u001b[0m \u001b[0;34m'y2'\u001b[0m\u001b[0;34m:\u001b[0m\u001b[0my2\u001b[0m\u001b[0;34m.\u001b[0m\u001b[0mresult\u001b[0m\u001b[0;34m(\u001b[0m\u001b[0;34m)\u001b[0m\u001b[0;34m}\u001b[0m\u001b[0;34m)\u001b[0m\u001b[0;34m)\u001b[0m\u001b[0;34m\u001b[0m\u001b[0m\n\u001b[0m",
      "\u001b[0;32m~/.conda/envs/my_py3/lib/python3.6/site-packages/dask/dataframe/io/io.py\u001b[0m in \u001b[0;36mfrom_pandas\u001b[0;34m(data, npartitions, chunksize, sort, name)\u001b[0m\n\u001b[1;32m    170\u001b[0m \u001b[0;34m\u001b[0m\u001b[0m\n\u001b[1;32m    171\u001b[0m     \u001b[0;32mif\u001b[0m \u001b[0;34m(\u001b[0m\u001b[0;34m(\u001b[0m\u001b[0mnpartitions\u001b[0m \u001b[0;32mis\u001b[0m \u001b[0;32mNone\u001b[0m\u001b[0;34m)\u001b[0m \u001b[0;34m==\u001b[0m \u001b[0;34m(\u001b[0m\u001b[0mchunksize\u001b[0m \u001b[0;32mis\u001b[0m \u001b[0;32mNone\u001b[0m\u001b[0;34m)\u001b[0m\u001b[0;34m)\u001b[0m\u001b[0;34m:\u001b[0m\u001b[0;34m\u001b[0m\u001b[0m\n\u001b[0;32m--> 172\u001b[0;31m         \u001b[0;32mraise\u001b[0m \u001b[0mValueError\u001b[0m\u001b[0;34m(\u001b[0m\u001b[0;34m'Exactly one of npartitions and chunksize must be specified.'\u001b[0m\u001b[0;34m)\u001b[0m\u001b[0;34m\u001b[0m\u001b[0m\n\u001b[0m\u001b[1;32m    173\u001b[0m \u001b[0;34m\u001b[0m\u001b[0m\n\u001b[1;32m    174\u001b[0m     \u001b[0mnrows\u001b[0m \u001b[0;34m=\u001b[0m \u001b[0mlen\u001b[0m\u001b[0;34m(\u001b[0m\u001b[0mdata\u001b[0m\u001b[0;34m)\u001b[0m\u001b[0;34m\u001b[0m\u001b[0m\n",
      "\u001b[0;31mValueError\u001b[0m: Exactly one of npartitions and chunksize must be specified."
     ]
    }
   ],
   "source": [
    "df = dd.from_pandas(pd.DataFrame({'y1':y1.result(), 'y2':y2.result()}))"
   ]
  },
  {
   "cell_type": "code",
   "execution_count": 29,
   "metadata": {},
   "outputs": [
    {
     "data": {
      "text/plain": [
       "{'tcp://141.142.237.49:10225': 1,\n",
       " 'tcp://141.142.237.49:10244': 1,\n",
       " 'tcp://141.142.237.49:11228': 1,\n",
       " 'tcp://141.142.237.49:11841': 1,\n",
       " 'tcp://141.142.237.49:11859': 1,\n",
       " 'tcp://141.142.237.49:12959': 1,\n",
       " 'tcp://141.142.237.49:13371': 1,\n",
       " 'tcp://141.142.237.49:13704': 1,\n",
       " 'tcp://141.142.237.49:1578': 1,\n",
       " 'tcp://141.142.237.49:17960': 1,\n",
       " 'tcp://141.142.237.49:19503': 1,\n",
       " 'tcp://141.142.237.49:20506': 1,\n",
       " 'tcp://141.142.237.49:20994': 1,\n",
       " 'tcp://141.142.237.49:21194': 1,\n",
       " 'tcp://141.142.237.49:23175': 1,\n",
       " 'tcp://141.142.237.49:23976': 1,\n",
       " 'tcp://141.142.237.49:24639': 1,\n",
       " 'tcp://141.142.237.49:24744': 1,\n",
       " 'tcp://141.142.237.49:2550': 1,\n",
       " 'tcp://141.142.237.49:25547': 1,\n",
       " 'tcp://141.142.237.49:25619': 1,\n",
       " 'tcp://141.142.237.49:31423': 1,\n",
       " 'tcp://141.142.237.49:31917': 1,\n",
       " 'tcp://141.142.237.49:32327': 1,\n",
       " 'tcp://141.142.237.49:3397': 1,\n",
       " 'tcp://141.142.237.49:3461': 1,\n",
       " 'tcp://141.142.237.49:4020': 1,\n",
       " 'tcp://141.142.237.49:5831': 1,\n",
       " 'tcp://141.142.237.49:6884': 1,\n",
       " 'tcp://141.142.237.49:8186': 1,\n",
       " 'tcp://141.142.237.49:9088': 1}"
      ]
     },
     "execution_count": 29,
     "metadata": {},
     "output_type": "execute_result"
    },
    {
     "name": "stderr",
     "output_type": "stream",
     "text": [
      "distributed.client - WARNING - Client report stream closed to scheduler\n",
      "distributed.client - WARNING - Client report stream closed to scheduler\n"
     ]
    }
   ],
   "source": [
    "client.ncores()"
   ]
  },
  {
   "cell_type": "code",
   "execution_count": null,
   "metadata": {
    "collapsed": true
   },
   "outputs": [],
   "source": []
  }
 ],
 "metadata": {
  "kernelspec": {
   "display_name": "Python 3",
   "language": "python",
   "name": "python3"
  },
  "language_info": {
   "codemirror_mode": {
    "name": "ipython",
    "version": 3
   },
   "file_extension": ".py",
   "mimetype": "text/x-python",
   "name": "python",
   "nbconvert_exporter": "python",
   "pygments_lexer": "ipython3",
   "version": "3.6.2"
  }
 },
 "nbformat": 4,
 "nbformat_minor": 2
}
