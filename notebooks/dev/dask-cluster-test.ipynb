{
 "cells": [
  {
   "cell_type": "code",
   "execution_count": 1,
   "metadata": {
    "collapsed": true
   },
   "outputs": [],
   "source": [
    "import holoviews as hv\n",
    "from explorer.functors import Column, CustomFunctor, StarGalaxyLabeller, CompositeFunctor, RAColumn, DecColumn\n",
    "import pandas as pd\n",
    "import fastparquet\n",
    "import dask.dataframe as dd"
   ]
  },
  {
   "cell_type": "code",
   "execution_count": 2,
   "metadata": {
    "collapsed": true
   },
   "outputs": [],
   "source": [
    "from distributed import Client, LocalCluster\n",
    "# cluster = LocalCluster(n_workers=32)\n",
    "# client = Client(cluster)"
   ]
  },
  {
   "cell_type": "code",
   "execution_count": 3,
   "metadata": {},
   "outputs": [],
   "source": [
    "client = Client(scheduler_file='/scratch/tmorton/dask/scheduler.json')"
   ]
  },
  {
   "cell_type": "code",
   "execution_count": 4,
   "metadata": {
    "collapsed": true
   },
   "outputs": [],
   "source": [
    "from explorer.catalog import ParquetCatalog\n",
    "import glob\n",
    "\n",
    "files = glob.glob('/scratch/tmorton/qa_explorer_data/forced_big_fake*')[:32]\n",
    "cat = ParquetCatalog(files)"
   ]
  },
  {
   "cell_type": "code",
   "execution_count": 5,
   "metadata": {
    "collapsed": true
   },
   "outputs": [],
   "source": [
    "from explorer.functors import (Mag, CustomFunctor, DeconvolvedMoments, Column,\n",
    "                            SdssTraceSize, PsfSdssTraceSizeDiff, HsmTraceSize,\n",
    "                            PsfHsmTraceSizeDiff)\n",
    "\n",
    "# fdict = {'x': Mag('base_PsfFlux'), 'y1': DeconvolvedMoments(),\n",
    "#                       'y2': CustomFunctor('mag(modelfit_CModel) - mag(base_PsfFlux)'),\n",
    "#                       'ra': RAColumn(), 'dec':DecColumn()}"
   ]
  },
  {
   "cell_type": "code",
   "execution_count": 6,
   "metadata": {},
   "outputs": [
    {
     "data": {
      "text/plain": [
       "('ext_shapeHSM_HsmSourceMoments_xx',\n",
       " 'ext_shapeHSM_HsmSourceMoments_yy',\n",
       " 'base_SdssShape_xx',\n",
       " 'base_SdssShape_yy',\n",
       " 'ext_shapeHSM_HsmPsfMoments_xx',\n",
       " 'ext_shapeHSM_HsmPsfMoments_yy')"
      ]
     },
     "execution_count": 6,
     "metadata": {},
     "output_type": "execute_result"
    }
   ],
   "source": [
    "f = DeconvolvedMoments()\n",
    "f.columns"
   ]
  },
  {
   "cell_type": "code",
   "execution_count": 7,
   "metadata": {
    "collapsed": true
   },
   "outputs": [],
   "source": [
    "xfn = CustomFunctor('mag(base_PsfFlux)')\n",
    "yfn = CustomFunctor('mag(modelfit_CModel) - mag(base_PsfFlux)')"
   ]
  },
  {
   "cell_type": "code",
   "execution_count": 8,
   "metadata": {},
   "outputs": [
    {
     "name": "stdout",
     "output_type": "stream",
     "text": [
      "CPU times: user 7.79 s, sys: 86.9 ms, total: 7.88 s\n",
      "Wall time: 15.1 s\n",
      "CPU times: user 6.33 s, sys: 155 ms, total: 6.49 s\n",
      "Wall time: 6.78 s\n"
     ]
    }
   ],
   "source": [
    "%time x = client.persist(xfn(cat))\n",
    "%time y = client.persist(yfn(cat))"
   ]
  },
  {
   "cell_type": "code",
   "execution_count": 13,
   "metadata": {},
   "outputs": [
    {
     "data": {
      "text/plain": [
       "dask.dataframe.core.Series"
      ]
     },
     "execution_count": 13,
     "metadata": {},
     "output_type": "execute_result"
    }
   ],
   "source": [
    "type(x)"
   ]
  },
  {
   "cell_type": "code",
   "execution_count": 11,
   "metadata": {},
   "outputs": [
    {
     "data": {
      "text/plain": [
       "dask.dataframe.core.Series"
      ]
     },
     "execution_count": 11,
     "metadata": {},
     "output_type": "execute_result"
    }
   ],
   "source": [
    "type(y)"
   ]
  },
  {
   "cell_type": "code",
   "execution_count": null,
   "metadata": {
    "collapsed": true
   },
   "outputs": [],
   "source": []
  }
 ],
 "metadata": {
  "kernelspec": {
   "display_name": "Python 3",
   "language": "python",
   "name": "python3"
  },
  "language_info": {
   "codemirror_mode": {
    "name": "ipython",
    "version": 3
   },
   "file_extension": ".py",
   "mimetype": "text/x-python",
   "name": "python",
   "nbconvert_exporter": "python",
   "pygments_lexer": "ipython3",
   "version": "3.6.2"
  }
 },
 "nbformat": 4,
 "nbformat_minor": 2
}
